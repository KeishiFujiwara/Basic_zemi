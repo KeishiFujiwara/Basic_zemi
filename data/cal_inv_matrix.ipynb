{
 "cells": [
  {
   "cell_type": "code",
   "execution_count": 9,
   "metadata": {},
   "outputs": [
    {
     "name": "stdout",
     "output_type": "stream",
     "text": [
      "逆行列:\n",
      "[[1.00000000e+00 6.66133815e-16]\n",
      " [0.00000000e+00 1.00000000e+00]]\n"
     ]
    }
   ],
   "source": [
    "import numpy as np\n",
    "def gauss_jordan_inverse(A):\n",
    "    n = len(A)\n",
    "\n",
    "    I = [[float(i == j) for i in range(n)] for j in range(n)]\n",
    "    \n",
    "    for i in range(n):\n",
    "        A[i] = A[i] + I[i]\n",
    "\n",
    "    for i in range(n):\n",
    "        if A[i][i] == 0:\n",
    "            for j in range(i+1, n):\n",
    "                if A[j][i] != 0:\n",
    "                    A[i], A[j] = A[j], A[i]\n",
    "                    break\n",
    "        diag_value = A[i][i]\n",
    "        for j in range(2 * n):\n",
    "            A[i][j] /= diag_value\n",
    "        \n",
    "        for j in range(n):\n",
    "            if i != j:\n",
    "                row_factor = A[j][i]\n",
    "                for k in range(2 * n):\n",
    "                    A[j][k] -= row_factor * A[i][k]\n",
    "    \n",
    "    inverse_matrix = [row[n:] for row in A]\n",
    "    return inverse_matrix\n",
    "\n",
    "A = [\n",
    "    [4, 7],\n",
    "    [2, 6]\n",
    "]\n",
    "\n",
    "inverse_A = gauss_jordan_inverse(A)\n",
    "A = [\n",
    "    [4, 7],\n",
    "    [2, 6]\n",
    "]\n",
    "print(\"逆行列:\")\n",
    "print(np.dot(inverse_A,A))"
   ]
  }
 ],
 "metadata": {
  "kernelspec": {
   "display_name": "Python 3",
   "language": "python",
   "name": "python3"
  },
  "language_info": {
   "codemirror_mode": {
    "name": "ipython",
    "version": 3
   },
   "file_extension": ".py",
   "mimetype": "text/x-python",
   "name": "python",
   "nbconvert_exporter": "python",
   "pygments_lexer": "ipython3",
   "version": "3.9.6"
  },
  "orig_nbformat": 4
 },
 "nbformat": 4,
 "nbformat_minor": 2
}
